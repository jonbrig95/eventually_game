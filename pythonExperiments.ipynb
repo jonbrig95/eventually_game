{
 "cells": [
  {
   "cell_type": "code",
   "execution_count": null,
   "metadata": {
    "scrolled": true
   },
   "outputs": [],
   "source": [
    "import random\n",
    "\n",
    "Muskets = [\"Jon\", \"James\", \"Anthony\"]\n",
    "jewelAmount = 10\n",
    "alive = True\n",
    "\n",
    "def musketCheck():\n",
    "    #lets check the info we have on our musketeers (and their friend for some reason)\n",
    "    global Muskets\n",
    "    MusketAges = [23,20,18]\n",
    "    MusketFriend = \"Matt\"\n",
    "    MusketFriendAge = 22\n",
    "    print(\"The Muskets are\" + str(Muskets) + \", aged \" + str(MusketAges) + \" respectively, with a friend \"+ str(MusketFriend) + \" aged \" + str(MusketFriendAge) )\n",
    "    if input(\"Is the information above True or False? \") == \"False\":\n",
    "        Muskets = [str(x) for x in input(\"Please write the Musket's names \").split(\",\")]\n",
    "        MusketAges = [int(x) for x in input(\"Please write the Musket's ages \").split(\",\")]\n",
    "        MusketFriend = input(\"Please write the Musket's friend's name \")\n",
    "        MusketFriendAge = input(\"Please write the Musket's friend's age \")\n",
    "      \n",
    "\n",
    "def kingStarting():\n",
    "    #lets start the game\n",
    "    if input(\"Would you like to be king? (yes/no) \") == \"yes\":\n",
    "        kingName = input(\"Great King, what is your name? \")\n",
    "        jewelAmount = input(kingName + \", how many jewels would you like? \")\n",
    "        jewelValues = [int(x) for x in input(kingName + \",how much does each of the \" + jewelAmount +\" jewel(es) cost?\").split(\",\")]\n",
    "        print(\"King \" + kingName + \" that value is worth \" + str(sum(jewelValues)))\n",
    "        musketCheck()\n",
    "        \n",
    "    else:\n",
    "        print(\"You've been executed, thanks for your time\")\n",
    "        jewelAmount = 0\n",
    "        global alive\n",
    "        alive = False\n",
    "        return alive\n",
    "    return jewelAmount\n",
    "    \n",
    "\n",
    "def jewelRun():\n",
    "    #see if you got the jewels\n",
    "    if alive == True:\n",
    "        if random.randint(0,101) >= 50:\n",
    "            print(\"Your team got away and made \" + str(jewelAmount))\n",
    "        else:\n",
    "            print(\"Unfortunately your team was caught, and someone must pay. You can either choose a member or have one randomly selected. Input a number if you have a choice, or 'random'.\")\n",
    "            kingsChoice= input(\"What is your choice? \")\n",
    "            if kingsChoice == \"random\":\n",
    "                Muskets.pop(random.randint(0,2))\n",
    "                print(\"Your surviving team is\" + str(Muskets))\n",
    "            else:\n",
    "                Muskets.pop(int(kingsChoice))\n",
    "                print(\"Your surviving team is \" + str(Muskets))\n",
    "    else:\n",
    "        print(\"Since you're dead, you couldn't try to get jewels.\")\n",
    "\n",
    "kingStarting()\n",
    "jewelRun()"
   ]
  },
  {
   "cell_type": "code",
   "execution_count": null,
   "metadata": {},
   "outputs": [],
   "source": [
    "class Musketeer:\n",
    "\n",
    "    def __init__(self,name,jewels,status):\n",
    "        self.name = name;\n",
    "        self.jewels = jewels;\n",
    "        self.status = status\n",
    "\n",
    "    def getMusketCount(self):\n",
    "        musketcount = 0\n",
    "        for x in name:\n",
    "            if self.status == \"musket\":\n",
    "                musketcount +=\n",
    "        print(musketcount)"
   ]
  },
  {
   "cell_type": "code",
   "execution_count": null,
   "metadata": {},
   "outputs": [],
   "source": []
  }
 ],
 "metadata": {
  "kernelspec": {
   "display_name": "Python 3",
   "language": "python",
   "name": "python3"
  },
  "language_info": {
   "codemirror_mode": {
    "name": "ipython",
    "version": 3
   },
   "file_extension": ".py",
   "mimetype": "text/x-python",
   "name": "python",
   "nbconvert_exporter": "python",
   "pygments_lexer": "ipython3",
   "version": "3.7.0"
  }
 },
 "nbformat": 4,
 "nbformat_minor": 2
}
